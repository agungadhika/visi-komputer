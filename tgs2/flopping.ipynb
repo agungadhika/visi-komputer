{
 "cells": [
  {
   "cell_type": "code",
   "execution_count": null,
   "metadata": {},
   "outputs": [],
   "source": [
    "I = imread(‘cameraman.jpg’);\n",
    "[brs kol] = size(I);\n",
    "J = repmat(0,brs,kol);\n",
    "mirror = floor(kol/2);\n",
    "for x = 1 : brs-1\n",
    "for y = 1 : kol-1\n",
    "J(x,y) = I((2*mirror)-x, y);\n",
    "end\n",
    "end\n",
    "figure, imshow(uint8(J));"
   ]
  }
 ],
 "metadata": {
  "kernelspec": {
   "display_name": "Python 3.10.7 64-bit",
   "language": "python",
   "name": "python3"
  },
  "language_info": {
   "name": "python",
   "version": "3.10.7"
  },
  "orig_nbformat": 4,
  "vscode": {
   "interpreter": {
    "hash": "f675c097ae79ed25fb42b62842cd9229abe0b9b1c3444e72430d7ba626c91e1a"
   }
  }
 },
 "nbformat": 4,
 "nbformat_minor": 2
}
