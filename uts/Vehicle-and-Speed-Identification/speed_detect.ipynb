{
 "cells": [
  {
   "cell_type": "code",
   "execution_count": 1,
   "metadata": {},
   "outputs": [
    {
     "name": "stderr",
     "output_type": "stream",
     "text": [
      "/Users/mohan/anaconda3/lib/python3.5/site-packages/skvideo/__init__.py:356: UserWarning: avconv/avprobe not found in path: \n",
      "  warnings.warn(\"avconv/avprobe not found in path: \" + str(path), UserWarning)\n"
     ]
    }
   ],
   "source": [
    "import cv2\n",
    "import skvideo.io\n",
    "import numpy as np\n",
    "import random\n",
    "from collections import deque"
   ]
  },
  {
   "cell_type": "code",
   "execution_count": 2,
   "metadata": {
    "collapsed": true
   },
   "outputs": [],
   "source": [
    "#used to generate rectangles of different coulrs to avoid confusion\n",
    "def make_new_color():\n",
    "    return [random.randint(0, 255), random.randint(0, 255), random.randint(0, 255)]"
   ]
  },
  {
   "cell_type": "code",
   "execution_count": 3,
   "metadata": {
    "collapsed": true
   },
   "outputs": [],
   "source": [
    "#capturing video frames\n",
    "#importing xml file to detect cars \n",
    "#referenced from https://github.com/andrewssobral/vehicle_detection_haarcascades\n",
    "count = 0\n",
    "cap = skvideo.io.vread('sample.mp4')\n",
    "car_cascade = cv2.CascadeClassifier('cars.xml')"
   ]
  },
  {
   "cell_type": "code",
   "execution_count": 4,
   "metadata": {
    "collapsed": true
   },
   "outputs": [],
   "source": [
    "# i am tracking car using their centroids.so we get list of all centroids of all cars present in any given frame\n",
    "#these centroids can be used to extend for collision detection.will try to extend based on the available time\n",
    "centroids_list = deque([])\n",
    "car_count = 0\n",
    "\n",
    "with open(\"out.csv\", \"w\") as o:\n",
    "    pass"
   ]
  },
  {
   "cell_type": "code",
   "execution_count": 5,
   "metadata": {},
   "outputs": [
    {
     "ename": "KeyboardInterrupt",
     "evalue": "",
     "output_type": "error",
     "traceback": [
      "\u001b[0;31m---------------------------------------------------------------------------\u001b[0m",
      "\u001b[0;31mKeyboardInterrupt\u001b[0m                         Traceback (most recent call last)",
      "\u001b[0;32m<ipython-input-5-0d52ee60dd24>\u001b[0m in \u001b[0;36m<module>\u001b[0;34m()\u001b[0m\n\u001b[1;32m      9\u001b[0m \u001b[0;34m\u001b[0m\u001b[0m\n\u001b[1;32m     10\u001b[0m     \u001b[0;31m# Detects cars of different sizes in the input image\u001b[0m\u001b[0;34m\u001b[0m\u001b[0;34m\u001b[0m\u001b[0m\n\u001b[0;32m---> 11\u001b[0;31m     \u001b[0mcars\u001b[0m \u001b[0;34m=\u001b[0m \u001b[0mcar_cascade\u001b[0m\u001b[0;34m.\u001b[0m\u001b[0mdetectMultiScale\u001b[0m\u001b[0;34m(\u001b[0m\u001b[0mgray_image\u001b[0m\u001b[0;34m,\u001b[0m \u001b[0;36m1.1\u001b[0m\u001b[0;34m,\u001b[0m \u001b[0;36m1\u001b[0m\u001b[0;34m)\u001b[0m\u001b[0;34m\u001b[0m\u001b[0m\n\u001b[0m\u001b[1;32m     12\u001b[0m \u001b[0;34m\u001b[0m\u001b[0m\n\u001b[1;32m     13\u001b[0m     \u001b[0;31m# loop over all the found cars\u001b[0m\u001b[0;34m\u001b[0m\u001b[0;34m\u001b[0m\u001b[0m\n",
      "\u001b[0;31mKeyboardInterrupt\u001b[0m: "
     ]
    }
   ],
   "source": [
    "for i in range(0, cap.shape[0]):\n",
    "    center1 = []\n",
    "    center2 = []\n",
    "\n",
    "    # convert to gray scale of each frames\n",
    "    # print(\"i:\", i)\n",
    "    image = cap[i]\n",
    "    gray_image = cv2.cvtColor(cap[i], cv2.COLOR_BGR2GRAY)\n",
    "\n",
    "    # Detects cars of different sizes in the input image\n",
    "    cars = car_cascade.detectMultiScale(gray_image, 1.1, 1)\n",
    "\n",
    "    # loop over all the found cars\n",
    "    for (x, y, w, h) in cars:\n",
    "        xA = x\n",
    "        xB = x + w\n",
    "        yA = y\n",
    "        yB = y + h\n",
    "        # Enumerate over all the cars in centroids_list\n",
    "        not_matched = True\n",
    "        for idx, centroid_data in enumerate(centroids_list):\n",
    "            if centroid_data[0] == count:\n",
    "                continue\n",
    "            if centroids_list[idx][4] == 0:\n",
    "                centroids_list[idx][5] = \"unlocked\"\n",
    "                centroids_list[idx][4] = 5\n",
    "\n",
    "            # checking proximity using manhattan distance(indriectly calculates the diagonal distance between two points in successive frames)\n",
    "            X = abs(float(centroid_data[2][0] + centroid_data[2][2]) / 2 - float(xA + xB) / 2)\n",
    "            Y = abs(float(centroid_data[2][1] + centroid_data[2][3]) / 2 - float(yA + yB) / 2)\n",
    "            # if there is a rectangle in 10 pixel proximity of a rectangle of previous frame then its assumed that\n",
    "            # the car in the rectangle is same as it was in the previous frame\n",
    "            # we can change this value to any other value based on the movement happening in the frames, if vehicles are moving\n",
    "            # more than 10 pixels per frame then we change it to that value\n",
    "            if X < 10 and Y < 10:\n",
    "\n",
    "                not_matched = False\n",
    "                centroids_list[idx][4] = 5\n",
    "                centroids_list[idx][2] = [xA, yA, xB, yB]\n",
    "                centroids_list[idx][6].append(np.sqrt(X ** 2 + Y ** 2) * 24)\n",
    "                if centroids_list[idx][5] == \"unlocked\":\n",
    "\n",
    "                    if centroids_list[idx][0] == count - 1:\n",
    "                        centroids_list[idx][3] += 1\n",
    "\n",
    "                    else:\n",
    "                        centroids_list[idx][3] = 0\n",
    "\n",
    "                if centroids_list[idx][3] == 3:\n",
    "                    centroids_list[idx][5] = \"locked\"\n",
    "                    centroids_list[idx][3] = 0\n",
    "                cv2.rectangle(image, (xA, yA), (xB, yB), centroid_data[1], 2)\n",
    "                cv2.putText(image, str(centroids_list[idx][6][-1]),\n",
    "                            (xA, yA), cv2.FONT_HERSHEY_SIMPLEX, 0.5, centroid_data[1], 1, cv2.LINE_AA)\n",
    "                centroids_list[idx][0] = count\n",
    "                break\n",
    "\n",
    "        #    If rectangle not matches with previous rectangles that means it is a new car so make a new rectangle\n",
    "        if not_matched:\n",
    "            color = make_new_color()\n",
    "\n",
    "            # append new rectangle in previous cars list\n",
    "            centroids_list.appendleft([count, color, (xA, yA, xB, yB), 1, 5, \"unlocked\", [0], car_count])\n",
    "            car_count += 1\n",
    "            cv2.rectangle(image, (xA, yA), (xB, yB), color, 2)\n",
    "            cv2.putText(image, \"0\",\n",
    "                        (xA, yA), cv2.FONT_HERSHEY_SIMPLEX, 0.5, color, 1, cv2.LINE_AA)\n",
    "            prev_color = color\n",
    "            prev_coords = [xA, yA, xB, yB]\n",
    "            \n",
    "    for idx, centroid_data in enumerate(centroids_list):\n",
    "\n",
    "        if centroid_data[5] == \"locked\" and centroid_data[0] != count:\n",
    "            centroids_list[idx][4] -= 1\n",
    "            cv2.rectangle(image, (centroid_data[2][0], centroid_data[2][1]), (centroid_data[2][2], centroid_data[2][3]),\n",
    "                          centroid_data[1], 2)\n",
    "            cv2.putText(image, \"0\",\n",
    "                        (centroid_data[2][0], centroid_data[2][1]), cv2.FONT_HERSHEY_SIMPLEX, 0.5, centroid_data[1], 1,\n",
    "                        cv2.LINE_AA)\n",
    "            if centroids_list[idx][4] == 0:\n",
    "                centroids_list[idx][5] = \"unlocked\"\n",
    "                centroids_list[idx][4] = 5\n",
    "                centroids_list[idx][3] = 0\n",
    "\n",
    "        if count - centroid_data[0] == 10:\n",
    "            with open(\"out.csv\", \"a\") as o:\n",
    "                o.write(str(centroid_data[7]) + \": \" + str(sum(centroid_data[6]) / len(centroid_data[6])) + \"\\n\")\n",
    "\n",
    "    centroids_list = deque([car_data for car_data in list(centroids_list) if count - car_data[0] < 10])\n",
    "\n",
    "    # Display frames in a window\n",
    "    cv2.imshow('video2', image)\n",
    "    \n",
    "    if cv2.waitKey(33) == 27:\n",
    "        \n",
    "        break\n",
    "    # now you can see your images in the out folder in this directory, if there is no out folder make sure to make one\n",
    "    cv2.imwrite(\"out/\" + str(count) + \".jpg\", image)\n",
    "    count += 1\n"
   ]
  }
 ],
 "metadata": {
  "kernelspec": {
   "display_name": "Python 3",
   "language": "python",
   "name": "python3"
  },
  "language_info": {
   "codemirror_mode": {
    "name": "ipython",
    "version": 3
   },
   "file_extension": ".py",
   "mimetype": "text/x-python",
   "name": "python",
   "nbconvert_exporter": "python",
   "pygments_lexer": "ipython3",
   "version": "3.5.4"
  }
 },
 "nbformat": 4,
 "nbformat_minor": 2
}
